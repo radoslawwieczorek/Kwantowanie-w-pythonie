{
 "cells": [
  {
   "cell_type": "markdown",
   "metadata": {},
   "source": [
    "## Lab 2\n"
   ]
  },
  {
   "cell_type": "markdown",
   "metadata": {},
   "source": [
    "Przydatne linki:\n",
    "\n",
    "\n",
    "* o zmiennych i typach:\n",
    "  - https://www.learnpython.org/en/Variables_and_Types\n",
    "\n",
    "* kursy pythona po polsku\n",
    "  - [Kamil Kwapisz: Nauka Podstaw Pythona](https://kamil.kwapisz.pl/category/python/nauka-podstaw-pythona/)\n",
    "    -  [Łańcuchy znaków](https://kamil.kwapisz.pl/nauka-podstaw-python-string)\n",
    "  - [Python dla wszystkich (PY4E)](https://py4e.pl/)\n",
    "    - [Łańcuchy znaków](https://py4e.pl/lessons/strings)\n",
    "    - [Listy](https://py4e.pl/lessons/lists)\n",
    "  - [codeforia (wymaga logowania)](https://codeforia.com)\n",
    "  - https://www.learnpython.org/pl/Podstawowe_operatory (niektóre polecenia są w Python 2 i przez to nieaktualne, np. print - i nie wszystko działa)\n",
    "  \n",
    "* internetowe kompilalatory pythona:\n",
    "  - [programiz](https://www.programiz.com/python-programming/online-compiler/)\n",
    "  - [Trinket](https://trinket.io/python3)\n",
    "  - [Project Jupyter](https://jupyter.org/)\n",
    "  - [CoCalc](https://cocalc.com/)  \\(wymaga logowania\\)\n",
    "  - [Google Colab](https://colab.research.google.com/)  \\(wymaga logowania\\)\n"
   ]
  },
  {
   "cell_type": "markdown",
   "metadata": {},
   "source": [
    "Napisz program, który pobierze (na razie wpisane do programu) zmienne a i b i wypisze rozwiązanie równania\n",
    "$a\\,x+b=0$."
   ]
  },
  {
   "cell_type": "code",
   "execution_count": null,
   "metadata": {},
   "outputs": [],
   "source": [
    "# a = 5\n",
    "# b=3"
   ]
  },
  {
   "cell_type": "markdown",
   "metadata": {},
   "source": [
    "Napisz program, który dostanie trzy liczby ($a$, $b$ i $c$) i wypisze rozwiązanie równania kwadratowego $$a\\,x^2+b\\,x+c=0.$$"
   ]
  },
  {
   "cell_type": "code",
   "execution_count": null,
   "metadata": {},
   "outputs": [],
   "source": [
    "# a = 5\n",
    "# b = 3\n",
    "# c = 1"
   ]
  },
  {
   "cell_type": "code",
   "execution_count": 1,
   "metadata": {},
   "outputs": [
    {
     "ename": "SyntaxError",
     "evalue": "invalid syntax (<fstring>, line 1)",
     "output_type": "error",
     "traceback": [
      "\u001b[0;36m  File \u001b[0;32m\"<fstring>\"\u001b[0;36m, line \u001b[0;32m1\u001b[0m\n\u001b[0;31m    (a=)\u001b[0m\n\u001b[0m      ^\u001b[0m\n\u001b[0;31mSyntaxError\u001b[0m\u001b[0;31m:\u001b[0m invalid syntax\n"
     ]
    }
   ],
   "source": [
    "a=5\n",
    "f'Wynik {a=}'"
   ]
  },
  {
   "cell_type": "code",
   "execution_count": 2,
   "metadata": {},
   "outputs": [
    {
     "data": {
      "text/plain": [
       "'3.6.9 (default, Mar 10 2023, 16:46:00) \\n[GCC 8.4.0]'"
      ]
     },
     "execution_count": 2,
     "metadata": {},
     "output_type": "execute_result"
    }
   ],
   "source": [
    "import sys\n",
    "sys.version"
   ]
  },
  {
   "cell_type": "code",
   "execution_count": 4,
   "metadata": {},
   "outputs": [
    {
     "name": "stdout",
     "output_type": "stream",
     "text": [
      "date and time: abc\n"
     ]
    }
   ],
   "source": [
    "now='abc'\n",
    "print(f'date and time: {now=}')"
   ]
  },
  {
   "cell_type": "code",
   "execution_count": null,
   "metadata": {},
   "outputs": [],
   "source": []
  }
 ],
 "metadata": {
  "kernelspec": {
   "display_name": "Python 3",
   "language": "python",
   "name": "python3"
  },
  "language_info": {
   "codemirror_mode": {
    "name": "ipython",
    "version": 3
   },
   "file_extension": ".py",
   "mimetype": "text/x-python",
   "name": "python",
   "nbconvert_exporter": "python",
   "pygments_lexer": "ipython3",
   "version": "3.6.9"
  }
 },
 "nbformat": 4,
 "nbformat_minor": 2
}
