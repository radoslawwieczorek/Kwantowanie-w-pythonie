{
 "cells": [
  {
   "cell_type": "markdown",
   "metadata": {},
   "source": [
    "# Zestaw 3 (Listy)\n"
   ]
  },
  {
   "cell_type": "markdown",
   "metadata": {},
   "source": [
    "## Zadanie 1\n",
    "\n",
    "Napisz program, który obliczy \n",
    "\n",
    "* sumę\n",
    "\n",
    "* iloczyn\n",
    "\n",
    "elementów listy `L`  (będącej częścią skryptu, nie wprowadzanej z klawiatury) . Użyj pętli `while` lub `for`. \n"
   ]
  },
  {
   "cell_type": "code",
   "execution_count": null,
   "metadata": {},
   "outputs": [],
   "source": [
    "L = [1,4,-23,7,0.5]\n"
   ]
  },
  {
   "cell_type": "markdown",
   "metadata": {},
   "source": [
    "## Zadanie 2\n",
    "\n",
    "Oblicz sumę wartości elementów listy `L` z pomocą pętli i metody `pop()`. Jakiej pętli użyjesz?"
   ]
  },
  {
   "cell_type": "markdown",
   "metadata": {},
   "source": [
    "## Zadanie 3\n",
    "\n",
    "Zbuduj listę, której elementami będą kwadraty liczb od 5 do 15. Użyj pętli `while` oraz kolejno\n",
    "\n",
    "* konkatenacji (`+`),\n",
    "\n",
    "* metody `append()`,\n",
    "\n",
    "* metody `insert()`,\n",
    "\n",
    "* metody `extend()`.\n"
   ]
  }
 ],
 "metadata": {
  "kernelspec": {
   "display_name": "Python 3",
   "language": "python",
   "name": "python3"
  },
  "language_info": {
   "codemirror_mode": {
    "name": "ipython",
    "version": 3
   },
   "file_extension": ".py",
   "mimetype": "text/x-python",
   "name": "python",
   "nbconvert_exporter": "python",
   "pygments_lexer": "ipython3",
   "version": "3.8.10"
  }
 },
 "nbformat": 4,
 "nbformat_minor": 4
}
