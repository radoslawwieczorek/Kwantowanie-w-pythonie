{
 "cells": [
  {
   "cell_type": "markdown",
   "metadata": {},
   "source": [
    "## 1. Wyścig żółwi :)\n",
    "\n",
    "Zaimportuj bibliotekę `turtle`.  Z biblioteki `random` zaimportuj funkcję `randrange`. \n",
    "\n",
    "Za pomocą funkcji `turtle.Turtle()` stwórz dwa żólwie: `asia` i `zenek`. \n",
    "\n",
    "Nadaj im różne kolory (`imiezolwia.color('nazwakoloru')`) i kształt żółwia (`imiezolwia.shape('turtle')`).\n",
    "\n",
    "Stwórz żółwia `sedzia` (bez polskich liter!) i narysuj nim linię startu (od (-300,-50) do (-300,50)) i linię mety (od (300,-50) do (300,50)). Pamiętaj o funkcjach `.up()`, `.down()`, `.goto(x,y)`. \n",
    "\n",
    "Każ sędziemu napisać \"META\" przy mecie (funkcja `.write('napis')`).\n",
    "\n",
    "Ustaw żólwie `asia` i `zenek` na lini startu (`.goto`). \n",
    "\n",
    "Następnie przesuwaj każdego z zawodników o losową liczbę pikseli (`random.randrange(...)`) tak długo, aż któryś z nich nie dojdzie do mety. \n",
    "\n",
    "Żółw, który ma większą x-ową współrzędną (`imiezolwia.xcor()`), \n",
    "wygrywa. \n",
    "Sędzia zmienia kolor na kolor żółwia, który wygrał i zapisuje jego imię."
   ]
  },
  {
   "cell_type": "markdown",
   "metadata": {},
   "source": [
    "**2.** \n",
    "Narysuj linię 8 kwadratów o boku 20 w odstępie 10\n",
    "\n",
    "**3.** Narysuj „szachownicę” 8 na 8 kwadratów o boku 20 w odstępie 10\n",
    "\n",
    "**4.** Narysuj szachownicę 8 na 8 kwadratów o boku 20.\n",
    "\n",
    "**5.** Narysuj „pawie oko”."
   ]
  },
  {
   "cell_type": "markdown",
   "metadata": {},
   "source": [
    "**Następujący kod rysuje układ współrzędnych:**"
   ]
  },
  {
   "cell_type": "code",
   "execution_count": null,
   "metadata": {},
   "outputs": [],
   "source": [
    "import turtle\n",
    "\n",
    "turtle.speed(0)\n",
    "\n",
    "xmax=180\n",
    "ymax=180\n",
    "for i in range(2):\n",
    "    turtle.fd(-xmax)\n",
    "    turtle.fd(2*xmax)\n",
    "    turtle.rt(135)\n",
    "    turtle.fd(10)\n",
    "    turtle.bk(10)\n",
    "    turtle.rt(90)\n",
    "    turtle.fd(10)\n",
    "    turtle.bk(10)\n",
    "    turtle.rt(135)\n",
    "    turtle.home()\n",
    "    turtle.lt(90)\n",
    "\n",
    "turtle.up()\n",
    "turtle.home()\n",
    "\n",
    "\n",
    "for x in [-150,-100,-50,50,100,150]:\n",
    "    turtle.goto(x,0)\n",
    "    turtle.down()\n",
    "    turtle.write(x//50)\n",
    "    turtle.setheading(-90)\n",
    "    turtle.fd(10)\n",
    "    turtle.up()\n",
    "    \n",
    "for y in [-150,-100,-50,0,50,100,150]:\n",
    "    turtle.goto(4,y)\n",
    "    turtle.write(y//50)\n",
    "    turtle.goto(0,y)\n",
    "    turtle.down()\n",
    "    turtle.setheading(180)\n",
    "    turtle.fd(10)\n",
    "    turtle.up()\n",
    "\n",
    "turtle.ht()    "
   ]
  },
  {
   "cell_type": "markdown",
   "metadata": {},
   "source": [
    "**6.** Narysuj wektory $[1, 3]$ i $[−2, −1.5]$.\n",
    "\n",
    "**7.** Napisz funkcję `rysujwektor(x,y)`, która rysuje wektor o współrzędnych $[x , y]$.\n",
    "\n",
    "Użyj funkcji `rysujwektor(x,y)` do narysownia wektorów $\\overrightarrow{v}_1=[1,2]$ i $\\overrightarrow{v}_2=[3,1]$ oraz ich sumy $\\overrightarrow{v}_1+\\overrightarrow{v}_2$ i różnicy $\\overrightarrow{v}_1-\\overrightarrow{v}_2$"
   ]
  },
  {
   "cell_type": "code",
   "execution_count": null,
   "metadata": {},
   "outputs": [],
   "source": []
  }
 ],
 "metadata": {
  "kernelspec": {
   "display_name": "Python 3",
   "language": "python",
   "name": "python3"
  },
  "language_info": {
   "codemirror_mode": {
    "name": "ipython",
    "version": 3
   },
   "file_extension": ".py",
   "mimetype": "text/x-python",
   "name": "python",
   "nbconvert_exporter": "python",
   "pygments_lexer": "ipython3",
   "version": "3.6.9"
  }
 },
 "nbformat": 4,
 "nbformat_minor": 2
}
