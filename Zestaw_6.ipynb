{
 "cells": [
  {
   "cell_type": "markdown",
   "metadata": {},
   "source": [
    "# Zestaw 6 (Liczby zespolone.)\n"
   ]
  },
  {
   "cell_type": "markdown",
   "metadata": {},
   "source": [
    "1. Odpowiedz na pytania ze strony: [Khan Academy. Lekcja 2: Wprowadzenie do liczb zespolonych:](https://pl.khanacademy.org/math/algebra2/x2ec2f6f830c9fb89:complex/x2ec2f6f830c9fb89:complex-num/a/intro-to-complex-numbers)\n",
    "(Sprawdź, czy rozumiesz, Pytanie do zastanowienia, Teraz\n",
    "spróbuj sam!)\n",
    "2. Policz:\n",
    " 1. $(2-i) + (-3-2i)$,\n",
    " 1. $(2-2i) - (4-i)$,\n",
    " 1. $(3-2i)\\cdot (1+3i)$.\n",
    "3. Niech $z_1 = 1 − 1i, z_2 = 3 + 4i$. Policz (na kartce):\n",
    " 1. $z_1+z_2$,\n",
    " 1. $z_1-z_2$,\n",
    " 1. $z_1z_2$,\n",
    " 1. $\\frac{z_1}{z_2}$,\n",
    " 1. Sprzężenie $\\overline{z_1}$,\n",
    " 1. $z_1 \\cdot \\overline{z_1}$.\n",
    " \n",
    "4. Zaznacz liczby $z_1$, $z_2$ oraz $z_1+z_2$ na płaszczyźnie Gaussa.\n"
   ]
  },
  {
   "cell_type": "markdown",
   "metadata": {},
   "source": [
    "## Liczby zespolone  w Pythonie.\n",
    "\n",
    "Znamy już typy liczbowe `int` i `float`. Trzecim podstawowym typem liczbowym w pythonie jest `complex` służący do zapisywania liczb zespolonych.\n",
    "\n",
    "Jednostka urojona $i$ jest w Pythonie oznaczana literą `j` i zawsze w towarzystwie liczby, tzn. $i=$`1j` (bez spacji!).\n",
    "Liczby zespolone zapisujemy np. `z = 2 + 3j`."
   ]
  },
  {
   "cell_type": "code",
   "execution_count": null,
   "metadata": {},
   "outputs": [],
   "source": [
    "z = 2 + 3j\n",
    "type(z)"
   ]
  },
  {
   "cell_type": "markdown",
   "metadata": {},
   "source": [
    "### Zadania\n",
    "\n",
    "1. Sprawdź, jak działają operatory `+`, `-`, `*` i `/` na liczbach zespolonych.\n",
    "\n",
    "2. Sprawdź, że liczby `1`, `1.0`, oraz `1.0 + 0j` są równe.\n",
    "Zobacz, jakiego są typu. *Użyj* `print(type())`.\n",
    "\n",
    "3. Sprawdź atrybuty `.real` (*część rzeczywista*) i `.imag` (*część urojona*): Zobacz, ile to jest `(2-3j).real`, `(2-3j).imag` oraz `z.imag`, jeśli `z = (3 - 2) * (3 + 2j)`.\n",
    "\n",
    "4. Zobacz, ile to jest $i^2$, $(2+i)^2$, oraz $(2+i)(2-i)$."
   ]
  },
  {
   "cell_type": "code",
   "execution_count": null,
   "metadata": {},
   "outputs": [],
   "source": []
  }
 ],
 "metadata": {
  "kernelspec": {
   "display_name": "Python 3",
   "language": "python",
   "name": "python3"
  },
  "language_info": {
   "codemirror_mode": {
    "name": "ipython",
    "version": 3
   },
   "file_extension": ".py",
   "mimetype": "text/x-python",
   "name": "python",
   "nbconvert_exporter": "python",
   "pygments_lexer": "ipython3",
   "version": "3.8.10"
  }
 },
 "nbformat": 4,
 "nbformat_minor": 4
}
