{
 "cells": [
  {
   "cell_type": "markdown",
   "metadata": {},
   "source": [
    "# Zestaw 7 (Liczby zespolone - cd.)\n"
   ]
  },
  {
   "cell_type": "markdown",
   "metadata": {},
   "source": [
    "\n",
    "\n",
    "\n",
    "\n",
    "\n",
    "1. Odpowiedz na pytania ze strony: [Khan Academy. Lekcja 2: Wprowadzenie do liczb zespolonych:](https://pl.khanacademy.org/math/algebra2/x2ec2f6f830c9fb89:complex/x2ec2f6f830c9fb89:complex-num/a/intro-to-complex-numbers)\n",
    "(Sprawdź, czy rozumiesz, Pytanie do zastanowienia, Teraz\n",
    "spróbuj sam!)\n",
    "2. Policz:\n",
    " 1. $(2-i) + (-3-2i)$,\n",
    " 1. $(2-2i) - (4-i)$,\n",
    " 1. $(3-2i)\\cdot (1+3i)$.\n",
    "3. Niech $z_1 = 1 − 1i, z_2 = 3 + 4i$. Policz (na kartce):\n",
    " 1. $z_1+z_2$,\n",
    " 1. $z_1-z_2$,\n",
    " 1. $z_1z_2$,\n",
    " 1. $\\frac{z_1}{z_2}$,\n",
    " 1. Sprzężenie $\\overline{z_1}$,\n",
    " 1. $z_1 \\cdot \\overline{z_1}$.\n",
    " \n",
    "4. Zaznacz liczby $z_1$, $z_2$ oraz $z_1+z_2$ na płaszczyźnie Gaussa.\n"
   ]
  },
  {
   "cell_type": "markdown",
   "metadata": {},
   "source": [
    "## Liczby zespolone  w Pythonie.\n",
    "\n",
    "Typem liczbowym dla liczb zespolonych w pythonie jest `complex`.\n",
    "\n",
    "Jednostka urojona $i$ jest w Pythonie oznaczana literą `j` i zawsze w towarzystwie liczby, tzn. $i=$`1j` (bez spacji!).\n",
    "Liczby zespolone zapisujemy np. `z = 2 + 3j`.\n",
    "\n",
    "Z liczbami zespolonumi związane są następujące funkcje/medoty/stałe:\n",
    "\n",
    "Jeżeli `z` jest liczbę zespoloną (np. `z=3-4j`), to:\n",
    "- `z.real` - część rzeczywista (w przykładzie: `print(z.real)` wypisze 3 )\n",
    "- `z.imag` - część urojona (w przykładzie: `print(z.imag)` wypisze -4 )\n",
    "- `abs(z)` - moduł liczby `z` (w przykładzie: `print(abs(z))` wypisze 5, bo $\\sqrt{3^2+4^2}=5$).\n"
   ]
  },
  {
   "cell_type": "code",
   "execution_count": 1,
   "metadata": {},
   "outputs": [
    {
     "name": "stdout",
     "output_type": "stream",
     "text": [
      "3.0\n",
      "-4.0\n",
      "5.0\n"
     ]
    }
   ],
   "source": [
    "z = 3 - 4j\n",
    "print(z.real)\n",
    "print(z.imag)\n",
    "print(abs(z))"
   ]
  },
  {
   "cell_type": "code",
   "execution_count": null,
   "metadata": {},
   "outputs": [],
   "source": [
    "Biblioteka `cmath` zawiera funkcje działające dla liczb zespolonych. Dla nas ważna będzie funkcja `cmath.phase`,\n",
    "która zwraza fazę (argument, kąt) liczby zespolonej:"
   ]
  },
  {
   "cell_type": "code",
   "execution_count": 7,
   "metadata": {},
   "outputs": [
    {
     "name": "stdout",
     "output_type": "stream",
     "text": [
      "0.7853981633974483\n",
      "0.25\n"
     ]
    }
   ],
   "source": [
    "import cmath\n",
    "z = 1+1j\n",
    "print(cmath.phase(z), ' = 'cmath.phase(z)/cmath.pi, ' p \""
   ]
  },
  {
   "cell_type": "markdown",
   "metadata": {},
   "source": [
    "### Zadania\n",
    "\n",
    "1. Sprawdź, jak działają operatory `+`, `-`, `*` i `/` na liczbach zespolonych.\n",
    "\n",
    "2. Sprawdź, że liczby `1`, `1.0`, oraz `1.0 + 0j` są równe.\n",
    "Zobacz, jakiego są typu. *Użyj* `print(type())`.\n",
    "\n",
    "3. Sprawdź atrybuty `.real` (*część rzeczywista*) i `.imag` (*część urojona*): Zobacz, ile to jest `(2-3j).real`, `(2-3j).imag` oraz `z.imag`, jeśli `z = (3 - 2) * (3 + 2j)`.\n",
    "\n",
    "4. Zobacz, ile to jest $i^2$, $(2+i)^2$, oraz $(2+i)(2-i)$."
   ]
  },
  {
   "cell_type": "code",
   "execution_count": 2,
   "metadata": {},
   "outputs": [
    {
     "data": {
      "text/plain": [
       "['__doc__',\n",
       " '__loader__',\n",
       " '__name__',\n",
       " '__package__',\n",
       " '__spec__',\n",
       " 'acos',\n",
       " 'acosh',\n",
       " 'asin',\n",
       " 'asinh',\n",
       " 'atan',\n",
       " 'atanh',\n",
       " 'cos',\n",
       " 'cosh',\n",
       " 'e',\n",
       " 'exp',\n",
       " 'inf',\n",
       " 'infj',\n",
       " 'isclose',\n",
       " 'isfinite',\n",
       " 'isinf',\n",
       " 'isnan',\n",
       " 'log',\n",
       " 'log10',\n",
       " 'nan',\n",
       " 'nanj',\n",
       " 'phase',\n",
       " 'pi',\n",
       " 'polar',\n",
       " 'rect',\n",
       " 'sin',\n",
       " 'sinh',\n",
       " 'sqrt',\n",
       " 'tan',\n",
       " 'tanh',\n",
       " 'tau']"
      ]
     },
     "execution_count": 2,
     "metadata": {},
     "output_type": "execute_result"
    }
   ],
   "source": [
    "import cmath\n",
    "dir(cmath)"
   ]
  },
  {
   "cell_type": "code",
   "execution_count": 3,
   "metadata": {},
   "outputs": [
    {
     "data": {
      "text/plain": [
       "3.141592653589793"
      ]
     },
     "execution_count": 3,
     "metadata": {},
     "output_type": "execute_result"
    }
   ],
   "source": [
    "cmath.pi"
   ]
  },
  {
   "cell_type": "code",
   "execution_count": 5,
   "metadata": {},
   "outputs": [
    {
     "data": {
      "text/plain": [
       "-0.9272952180016122"
      ]
     },
     "execution_count": 5,
     "metadata": {},
     "output_type": "execute_result"
    }
   ],
   "source": [
    "cmath.phase(z)"
   ]
  },
  {
   "cell_type": "code",
   "execution_count": null,
   "metadata": {},
   "outputs": [],
   "source": []
  }
 ],
 "metadata": {
  "kernelspec": {
   "display_name": "Python 3",
   "language": "python",
   "name": "python3"
  },
  "language_info": {
   "codemirror_mode": {
    "name": "ipython",
    "version": 3
   },
   "file_extension": ".py",
   "mimetype": "text/x-python",
   "name": "python",
   "nbconvert_exporter": "python",
   "pygments_lexer": "ipython3",
   "version": "3.6.9"
  }
 },
 "nbformat": 4,
 "nbformat_minor": 4
}
