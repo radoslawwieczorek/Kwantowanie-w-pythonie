{
 "cells": [
  {
   "cell_type": "markdown",
   "metadata": {},
   "source": [
    "# Zestaw 7 (Liczby zespolone - cd.)\n"
   ]
  },
  {
   "cell_type": "markdown",
   "metadata": {},
   "source": [
    "## Liczby zespolone  w Pythonie.\n",
    "\n",
    "Typem liczbowym dla liczb zespolonych w pythonie jest `complex`.\n",
    "\n",
    "Jednostka urojona $i$ jest w Pythonie oznaczana literą `j` i zawsze w towarzystwie liczby, tzn. $i=$`1j` (bez spacji!).\n",
    "Liczby zespolone zapisujemy np. `z = 2 + 3j`.\n",
    "\n",
    "Z liczbami zespolonumi związane są następujące funkcje/medoty/stałe:\n",
    "\n",
    "Jeżeli `z` jest liczbę zespoloną (np. `z=3-4j`), to:\n",
    "- `z.real` - część rzeczywista (w przykładzie: `print(z.real)` wypisze 3 )\n",
    "- `z.imag` - część urojona (w przykładzie: `print(z.imag)` wypisze -4 )\n",
    "- `abs(z)` - moduł liczby `z` (w przykładzie: `print(abs(z))` wypisze 5, bo $\\sqrt{3^2+4^2}=5$).\n"
   ]
  },
  {
   "cell_type": "code",
   "execution_count": 1,
   "metadata": {},
   "outputs": [
    {
     "name": "stdout",
     "output_type": "stream",
     "text": [
      "3.0\n",
      "-4.0\n",
      "5.0\n"
     ]
    }
   ],
   "source": [
    "z = 3 - 4j\n",
    "print(z.real)\n",
    "print(z.imag)\n",
    "print(abs(z))"
   ]
  },
  {
   "cell_type": "markdown",
   "execution_count": null,
   "metadata": {},
   "source": [
    "Biblioteka `cmath` zawiera funkcje działające dla liczb zespolonych. Dla nas ważna będzie funkcja `cmath.phase`,\n",
    "która zwraza fazę (argument, kąt) liczby zespolonej:"
   ]
  },
  {
   "cell_type": "code",
   "execution_count": 11,
   "metadata": {},
   "outputs": [
    {
     "name": "stdout",
     "output_type": "stream",
     "text": [
      "0.7853981633974483  =  0.25 * pi\n"
     ]
    }
   ],
   "source": [
    "import cmath\n",
    "z = 1+1j\n",
    "print(cmath.phase(z), ' = ', cmath.phase(z)/cmath.pi, '* pi')"
   ]
  }
 ],
 "metadata": {
  "kernelspec": {
   "display_name": "Python 3",
   "language": "python",
   "name": "python3"
  },
  "language_info": {
   "codemirror_mode": {
    "name": "ipython",
    "version": 3
   },
   "file_extension": ".py",
   "mimetype": "text/x-python",
   "name": "python",
   "nbconvert_exporter": "python",
   "pygments_lexer": "ipython3",
   "version": "3.6.9"
  }
 },
 "nbformat": 4,
 "nbformat_minor": 4
}
