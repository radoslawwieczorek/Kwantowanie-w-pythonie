{
 "cells": [
  {
   "cell_type": "markdown",
   "metadata": {},
   "source": [
    "# Zestaw 5 (Wektory. Liczby zespolone.)\n"
   ]
  },
  {
   "cell_type": "markdown",
   "metadata": {},
   "source": [
    "## Wektory."
   ]
  },
  {
   "cell_type": "markdown",
   "metadata": {},
   "source": [
    "*Następujący kod rysuje układ współrzędnych żółwiem o nazwie `zolw`:*"
   ]
  },
  {
   "cell_type": "code",
   "execution_count": null,
   "metadata": {},
   "outputs": [],
   "source": [
    "import turtle\n",
    "\n",
    "xmax=180\n",
    "ymax=180\n",
    "zolw = turtle.Turtle()\n",
    "zolw.speed(0)\n",
    "for i in range(2):\n",
    "    zolw.fd(-xmax)\n",
    "    zolw.fd(2*xmax)\n",
    "    zolw.rt(135)\n",
    "    zolw.fd(10)\n",
    "    zolw.bk(10)\n",
    "    zolw.rt(90)\n",
    "    zolw.fd(10)\n",
    "    zolw.bk(10)\n",
    "    zolw.rt(135)\n",
    "    zolw.home()\n",
    "    zolw.lt(90)\n",
    "zolw.up()\n",
    "zolw.home()\n",
    "\n",
    "for x in [-150,-100,-50,50,100,150]:\n",
    "    zolw.goto(x,0)\n",
    "    zolw.down()\n",
    "    zolw.write(x//50)\n",
    "    zolw.setheading(-90)\n",
    "    zolw.fd(10)\n",
    "    zolw.up()\n",
    "    \n",
    "for y in [-150,-100,-50,0,50,100,150]:\n",
    "    zolw.goto(4,y)\n",
    "    zolw.write(y//50)\n",
    "    zolw.goto(0,y)\n",
    "    zolw.down()\n",
    "    zolw.setheading(180)\n",
    "    zolw.fd(10)\n",
    "    zolw.up()\n",
    "\n",
    "zolw.ht()"
   ]
  },
  {
   "cell_type": "markdown",
   "metadata": {},
   "source": [
    "1. Narysuj wektory $[1,3]$ i $[-2,-1.5]$ (osobnymi żółwiami).\n",
    "   > *Uwaga:* Możesz ustawić kierunek żólwia w stronę punktu (x,y)  za pomocą: `nazwazolwia.seth(nazwazolwia.towards(x,y))`.\n",
    "\n",
    "2. Napisz funkcję `rysujwektor(v)`, która rysuje wektor o współrzędnych `v`$=[x,y]$.\n",
    "\n",
    "   > *Uwaga:* `x` i `y` są liczbami typu `float`, `v = [x,y]` jest listą dwóch liczb.\n",
    "\n",
    "   - Narysuj wektory $v_1=[1,2]$ i $v_2=[2.5,0.5]$ za pomocą funkcji `rysujwektor`.\n",
    "\n",
    "\n",
    "3. Napisz funkcję `rysujwektorod(v,poczatek)`, która rysuje wektor o współrzędnych `v`$=[x,y]$ zaczepiony w punkcie\n",
    "`poczatek = [x0,y0]`.\n",
    "\n",
    "    - Przesuń wektor $v_1$ na koniec wektora $v_2$.\n",
    "\n",
    "    - Narysuj sumę wertorów $v_1$ i $v_2$."
   ]
  },
  {
   "cell_type": "markdown",
   "metadata": {},
   "source": [
    "## Liczby zespolone.\n",
    "\n",
    "1. Odpowiedz na pytania ze strony: [Khan Academy. Lekcja 2: Wprowadzenie do liczb zespolonych:](https://pl.khanacademy.org/math/algebra2/x2ec2f6f830c9fb89:complex/x2ec2f6f830c9fb89:complex-num/a/intro-to-complex-numbers)\n",
    "(Sprawdź, czy rozumiesz, Pytanie do zastanowienia, Teraz\n",
    "spróbuj sam!)\n",
    "2. Niech $z_1 = 1 − 1i, z_2 = 3 + 4i$. Policz (na kartce):\n",
    " 1. $z_1+z_2$\n",
    " 1. $z_1-z_2$\n",
    " 1. $z_1z_2$\n",
    " 1. $\\frac{z_1}{z_2}$\n",
    " \n",
    "3. Zaznacz liczby $z_1$, $z_2$ oraz $z_1+z_2$ na płaszczyźnie Gaussa.\n"
   ]
  },
  {
   "cell_type": "markdown",
   "metadata": {},
   "source": [
    "## Liczby zespolone  w Pythonie.\n",
    "\n",
    "Znamy już typy liczbowe `int` i `float`. Trzecim podstawowym typem liczbowym w pythonie jest `complex` służący do zapisywania liczb zespolonych.\n",
    "\n",
    "Jednostka urojona $i$ jest w Pythonie oznaczana literą `j` i zawsze w towarzystwie liczby, tzn. $i=$`1j` (bez spacji!).\n",
    "Liczby zespolone zapisujemy np. `z = 2 + 3j`."
   ]
  },
  {
   "cell_type": "code",
   "execution_count": null,
   "metadata": {},
   "outputs": [],
   "source": [
    "z = 2 + 3j\n",
    "type(z)"
   ]
  },
  {
   "cell_type": "markdown",
   "metadata": {},
   "source": [
    "### Zadania\n",
    "\n",
    "1. Sprawdź, jak działają operatory `+`, `-`, `*` i `/` na liczbach zespolonych.\n",
    "\n",
    "2. Sprawdź, że liczby `1`, `1.0`, oraz `1.0 + 0j` są równe.\n",
    "Zobacz, jakiego są typu. *Użyj* `print(type())`.\n",
    "\n",
    "3. Sprawdź atrybuty `.real` (*część rzeczywista*) i `.imag` (*część urojona*): Zobacz, ile to jest `(2-3j).real`, `(2-3j).imag` oraz `z.imag`, jeśli `z = (3 - 2) * (3 + 2j)`.\n",
    "\n",
    "4. Zobacz, ile to jest $i^2$, $(2+i)^2$, oraz $(2+i)(2-i)$."
   ]
  },
  {
   "cell_type": "code",
   "execution_count": null,
   "metadata": {},
   "outputs": [],
   "source": []
  }
 ],
 "metadata": {
  "kernelspec": {
   "display_name": "Python 3",
   "language": "python",
   "name": "python3"
  },
  "language_info": {
   "codemirror_mode": {
    "name": "ipython",
    "version": 3
   },
   "file_extension": ".py",
   "mimetype": "text/x-python",
   "name": "python",
   "nbconvert_exporter": "python",
   "pygments_lexer": "ipython3",
   "version": "3.8.10"
  }
 },
 "nbformat": 4,
 "nbformat_minor": 4
}
