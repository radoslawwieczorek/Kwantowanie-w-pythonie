{
 "cells": [
  {
   "cell_type": "markdown",
   "metadata": {},
   "source": [
    "# Zestaw 5 (Wektory.)\n"
   ]
  },
  {
   "cell_type": "markdown",
   "metadata": {},
   "source": [
    "*Następujący kod rysuje układ współrzędnych żółwiem o nazwie `zolw`:*"
   ]
  },
  {
   "cell_type": "code",
   "execution_count": null,
   "metadata": {},
   "outputs": [],
   "source": [
    "import turtle\n",
    "\n",
    "xmax=180\n",
    "ymax=180\n",
    "zolw = turtle.Turtle()\n",
    "zolw.speed(0)\n",
    "for i in range(2):\n",
    "    zolw.fd(-xmax)\n",
    "    zolw.fd(2*xmax)\n",
    "    zolw.rt(135)\n",
    "    zolw.fd(10)\n",
    "    zolw.bk(10)\n",
    "    zolw.rt(90)\n",
    "    zolw.fd(10)\n",
    "    zolw.bk(10)\n",
    "    zolw.rt(135)\n",
    "    zolw.home()\n",
    "    zolw.lt(90)\n",
    "zolw.up()\n",
    "zolw.home()\n",
    "\n",
    "for x in [-150,-100,-50,50,100,150]:\n",
    "    zolw.goto(x,0)\n",
    "    zolw.down()\n",
    "    zolw.write(x//50)\n",
    "    zolw.setheading(-90)\n",
    "    zolw.fd(10)\n",
    "    zolw.up()\n",
    "    \n",
    "for y in [-150,-100,-50,0,50,100,150]:\n",
    "    zolw.goto(4,y)\n",
    "    zolw.write(y//50)\n",
    "    zolw.goto(0,y)\n",
    "    zolw.down()\n",
    "    zolw.setheading(180)\n",
    "    zolw.fd(10)\n",
    "    zolw.up()\n",
    "\n",
    "zolw.ht()"
   ]
  },
  {
   "cell_type": "markdown",
   "metadata": {},
   "source": [
    "1. Narysuj wektory $[1,3]$ i $[-2,-1.5]$ (osobnymi żółwiami).\n",
    "\n",
    "2. Napisz funkcję `rysujwektor(v)`, która rysuje wektor o współrzędnych `v`$=[x,y]$.\n",
    "\n",
    "   > *Uwaga 1:* `x` i `y` są liczbami typu `float`, `[x,y]` jest listą dwóch liczb.\n",
    "   >\n",
    "   > *Uwaga 2:* Ustaw kierunek strzałki za pomocą: `nazwazolwia.seth(nazwazolwia.towards(x,y))`.\n",
    "\n",
    "   - Narysuj wektory $v_1=[1,2]$ i $v_2=[2.5,0.5]$ za pomocą funkcji `rysujwektor`.\n",
    "\n",
    "\n",
    "3. Napisz funkcję `rysujwektorod(v,poczatek)`, która rysuje wektor o współrzędnych `v`$=[x,y]$ zaczepiony w punkcie\n",
    "`poczatek = [x0,y0]`.\n",
    "\n",
    "    - Przesuń wektor $v_1$ na koniec wektora $v_2$.\n",
    "\n",
    "    - Narysuj sumę wertorów $v_1$ i $v_2$."
   ]
  },
  {
   "cell_type": "code",
   "execution_count": null,
   "metadata": {},
   "outputs": [],
   "source": []
  }
 ],
 "metadata": {
  "kernelspec": {
   "display_name": "Python 3",
   "language": "python",
   "name": "python3"
  },
  "language_info": {
   "codemirror_mode": {
    "name": "ipython",
    "version": 3
   },
   "file_extension": ".py",
   "mimetype": "text/x-python",
   "name": "python",
   "nbconvert_exporter": "python",
   "pygments_lexer": "ipython3",
   "version": "3.6.9"
  }
 },
 "nbformat": 4,
 "nbformat_minor": 4
}
