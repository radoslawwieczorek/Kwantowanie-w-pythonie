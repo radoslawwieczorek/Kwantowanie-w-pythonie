{
 "cells": [
  {
   "cell_type": "markdown",
   "metadata": {
    "id": "5teV5UngSmHv"
   },
   "source": [
    "## Zadanie 1.\n",
    "\n",
    "Napisz program, który oblicza wskaźnik masy ciała (BMI – body mass index). Użytkownik powinien wprowadzić z klawiatury swoją masę (w kilogramach) oraz wzrost (w metrach). Wskaźnik masy ciała jest obliczany ze wzoru:\n",
    "\n",
    "$$\n",
    "𝐵𝑀𝐼=\\frac{\\text{𝑚𝑎𝑠𝑎}}{𝑤𝑧𝑟𝑜𝑠𝑡^2}\n",
    "$$\n",
    "\n",
    "Program powinien wyświetlać BMI oraz informować użytkownika, czy jego masa jest optymalna (18,5≤BMI≤25), czy ma nadwagę lub niedowagę."
   ]
  },
  {
   "cell_type": "code",
   "execution_count": null,
   "metadata": {
    "id": "d3OInWwmSmH0"
   },
   "outputs": [],
   "source": []
  },
  {
   "cell_type": "markdown",
   "metadata": {
    "id": "PlEfn-AgSmH2"
   },
   "source": [
    "## Zadanie 2.\n",
    "\n",
    "Napisz program, który pobiera z klawiatury liczbę całkowitą dodatnią (wypisując odpowiedni komunikat) i informuje, czy ta liczba jest nieparzysta, czy parzysta.\n",
    "\n",
    "1. możesz użyć tylko operacji odejmowania i operatorów porównania\n",
    "\n",
    "2. użyj dowolnych operatorów pythona"
   ]
  },
  {
   "cell_type": "code",
   "execution_count": null,
   "metadata": {
    "id": "xE7YG0m8SmH4"
   },
   "outputs": [],
   "source": []
  },
  {
   "cell_type": "code",
   "execution_count": null,
   "metadata": {
    "id": "ZoVxpOv4SmH5"
   },
   "outputs": [],
   "source": []
  },
  {
   "cell_type": "markdown",
   "metadata": {},
   "source": [
    "## Zadanie 3.\n",
    "\n",
    "Napisz program znajdujący  rzeczywiste pierwiastki równania kwadratowego $a x^2 + b x + c = 0$, gdzie $a, b, c \\in \\mathbb{R}$."
   ]
  },
  {
   "cell_type": "code",
   "execution_count": null,
   "metadata": {},
   "outputs": [],
   "source": []
  },
  {
   "cell_type": "markdown",
   "metadata": {
    "id": "c6E1cLWCSmH5"
   },
   "source": [
    "## Zadanie 4.\n",
    "\n",
    "\n",
    "Napisz program, który prosi użytkownika o podanie roku, a następnie informuje ile dni ma luty w danym roku. W normalnym roku luty ma 28 dni, w przestępnym 29. Czy rok jest normalny, czy przestępny, decyduje następująca reguła:\n",
    "\n",
    "* Sprawdź, czy rok jest podzielny przez 100; jeżeli tak, to jest przestępny, jeżeli jest podzielny przez 400; np. 2000 – przestępny, 2100 – nie.\n",
    "\n",
    "* Jeżeli rok nie jest podzielny przez 100, to jest przestępny wtedy i tylko wtedy, gdy jest podzielny przez 4; np. 2008 – przestępny, 2009 – nie."
   ]
  },
  {
   "cell_type": "code",
   "execution_count": null,
   "metadata": {
    "id": "HrlTCXgYSmH7"
   },
   "outputs": [],
   "source": []
  },
  {
   "cell_type": "markdown",
   "metadata": {
    "id": "1aove4MbSmH7"
   },
   "source": [
    "## Zadanie 5.\n",
    "\n",
    "Napisz program, który policzy silnię podanej liczby $n$."
   ]
  },
  {
   "cell_type": "code",
   "execution_count": null,
   "metadata": {
    "id": "vDm06WcBSmH9"
   },
   "outputs": [],
   "source": []
  },
  {
   "cell_type": "markdown",
   "metadata": {
    "id": "qMVitISbSmH_"
   },
   "source": [
    "## Zadanie 6.\n",
    "\n",
    "Napisz program, który dla podanej z klawiatury liczby $n$ poda $\\Big\\lfloor \\sqrt{n} \\Big\\rfloor$, czyli największą liczbę, której kwadrat jest niewiększy niż $n$."
   ]
  },
  {
   "cell_type": "code",
   "execution_count": null,
   "metadata": {
    "id": "IRwCnx2dSmIA"
   },
   "outputs": [],
   "source": []
  },
  {
   "cell_type": "markdown",
   "metadata": {
    "id": "DZJMS0-ASmIA"
   },
   "source": [
    "## Zadania 7.\n",
    "\n",
    "Napisz program, który wczyta liczbę oraz wypisze sumę jej cyfr."
   ]
  },
  {
   "cell_type": "code",
   "execution_count": null,
   "metadata": {
    "id": "WOaWRN6WSmIB"
   },
   "outputs": [],
   "source": []
  },
  {
   "cell_type": "markdown",
   "metadata": {
    "id": "Sc_3kIQqhYnL"
   },
   "source": [
    "## Zadanie 8.\n",
    "\n",
    "Wypisz wszystkie liczby podzielne przez 3 i przez 7 mniejsze od $n$."
   ]
  },
  {
   "cell_type": "code",
   "execution_count": null,
   "metadata": {
    "id": "jLLTlpYfg8qX"
   },
   "outputs": [],
   "source": []
  },
  {
   "cell_type": "markdown",
   "metadata": {
    "id": "AXkmxLAtSmIB"
   },
   "source": [
    "## Zadanie 9.\n",
    "\n",
    "Napisz program, który wprowadzoną z klawiatury liczbę 1-10 konwertuje do liczby zapisanej w notacji rzymskiej."
   ]
  },
  {
   "cell_type": "code",
   "execution_count": null,
   "metadata": {
    "id": "-r-a_H9vSmIC"
   },
   "outputs": [],
   "source": []
  },
  {
   "cell_type": "markdown",
   "metadata": {},
   "source": [
    "## Zadanie 10.\n",
    "\n",
    "Zapytaj użytkownika o imię i wypisz to imię napisane wspak."
   ]
  },
  {
   "cell_type": "code",
   "execution_count": null,
   "metadata": {},
   "outputs": [],
   "source": []
  }
 ],
 "metadata": {
  "colab": {
   "provenance": []
  },
  "kernelspec": {
   "display_name": "Python 3",
   "language": "python",
   "name": "python3"
  },
  "language_info": {
   "codemirror_mode": {
    "name": "ipython",
    "version": 3
   },
   "file_extension": ".py",
   "mimetype": "text/x-python",
   "name": "python",
   "nbconvert_exporter": "python",
   "pygments_lexer": "ipython3",
   "version": "3.6.9"
  }
 },
 "nbformat": 4,
 "nbformat_minor": 1
}
